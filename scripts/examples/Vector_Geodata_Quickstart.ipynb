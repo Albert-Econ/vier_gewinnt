{
 "cells": [
  {
   "cell_type": "markdown",
   "id": "ebe68c59",
   "metadata": {},
   "source": [
    "# Working with Vector Geodata - Quickstart\n",
    "\n",
    "In this Tutorial we will read in some simple Geodata and play around with it!\n",
    "First we need the library Geopandas which works very similiar to Pandas"
   ]
  },
  {
   "cell_type": "code",
   "execution_count": 1,
   "id": "ae9961d7",
   "metadata": {},
   "outputs": [
    {
     "name": "stdout",
     "output_type": "stream",
     "text": [
      "\n",
      "Note: you may need to restart the kernel to use updated packages.\n"
     ]
    }
   ],
   "source": [
    "#conda install geopandas"
   ]
  },
  {
   "cell_type": "code",
   "execution_count": 2,
   "id": "dcd78303",
   "metadata": {},
   "outputs": [
    {
     "name": "stderr",
     "output_type": "stream",
     "text": [
      "C:\\Users\\nb\\AppData\\Local\\Temp\\ipykernel_3200\\668399998.py:1: UserWarning: Shapely 2.0 is installed, but because PyGEOS is also installed, GeoPandas will still use PyGEOS by default for now. To force to use and test Shapely 2.0, you have to set the environment variable USE_PYGEOS=0. You can do this before starting the Python process, or in your code before importing geopandas:\n",
      "\n",
      "import os\n",
      "os.environ['USE_PYGEOS'] = '0'\n",
      "import geopandas\n",
      "\n",
      "In a future release, GeoPandas will switch to using Shapely by default. If you are using PyGEOS directly (calling PyGEOS functions on geometries from GeoPandas), this will then stop working and you are encouraged to migrate from PyGEOS to Shapely 2.0 (https://shapely.readthedocs.io/en/latest/migration_pygeos.html).\n",
      "  import geopandas as gpd\n"
     ]
    }
   ],
   "source": [
    "import geopandas as gpd\n",
    "import folium\n",
    "import rioxarray as riox\n",
    "import numpy as np\n",
    "import matplotlib.pyplot as plt\n",
    "import os"
   ]
  },
  {
   "cell_type": "markdown",
   "id": "19a45d93",
   "metadata": {},
   "source": [
    " "
   ]
  },
  {
   "cell_type": "markdown",
   "id": "d7268d49",
   "metadata": {},
   "source": [
    "There a many different data types for vector geodata like kml, shape, json, etc. We are working with geopackages which could be described as a normal dataframe, but with a geometry column. The geometry in a geodataframe can be Points, Lines and Polygons. \n",
    "\n",
    "For this quickstart example we want to look at the administrative boundaries of the city Bremen. For this city we also have all buildings.\n",
    "\n",
    "Import a geodatafile (*.gpkg)"
   ]
  },
  {
   "cell_type": "code",
   "execution_count": 6,
   "id": "fce93350",
   "metadata": {},
   "outputs": [
    {
     "name": "stdout",
     "output_type": "stream",
     "text": [
      "C:\\Users\\nb\n"
     ]
    }
   ],
   "source": [
    "cd"
   ]
  },
  {
   "cell_type": "code",
   "execution_count": 14,
   "id": "3e3ebc70",
   "metadata": {},
   "outputs": [],
   "source": [
    "neighborhoods_bremen = gpd.read_file(r\"C:\\Users\\nb\\OneDrive\\Documents\\GitHub\\vier_gewinnt\\Data2\\Example_Bremen_Neighborhoods.gpkg\")\n",
    "buildings_bremen = gpd.read_file(r\"C:\\Users\\nb\\OneDrive\\Documents\\GitHub\\vier_gewinnt\\Data2\\Example_Bremen_Zensus_Buildings.csv\")"
   ]
  },
  {
   "cell_type": "markdown",
   "id": "94108783",
   "metadata": {},
   "source": [
    "\n",
    "Once we imported the files we can look at them in interctive maps via the geopandas built in function .explore() and the functions from folium.\n"
   ]
  },
  {
   "cell_type": "code",
   "execution_count": 17,
   "id": "df32f778",
   "metadata": {},
   "outputs": [
    {
     "data": {
      "text/html": [
       "<div>\n",
       "<style scoped>\n",
       "    .dataframe tbody tr th:only-of-type {\n",
       "        vertical-align: middle;\n",
       "    }\n",
       "\n",
       "    .dataframe tbody tr th {\n",
       "        vertical-align: top;\n",
       "    }\n",
       "\n",
       "    .dataframe thead th {\n",
       "        text-align: right;\n",
       "    }\n",
       "</style>\n",
       "<table border=\"1\" class=\"dataframe\">\n",
       "  <thead>\n",
       "    <tr style=\"text-align: right;\">\n",
       "      <th></th>\n",
       "      <th>Neighborhood_FID</th>\n",
       "      <th>Neighborhood_Code</th>\n",
       "      <th>Neighborhood_Name</th>\n",
       "      <th>District_Code</th>\n",
       "      <th>District_Name</th>\n",
       "      <th>City_Code</th>\n",
       "      <th>City_Name</th>\n",
       "      <th>geometry</th>\n",
       "    </tr>\n",
       "  </thead>\n",
       "  <tbody>\n",
       "    <tr>\n",
       "      <th>0</th>\n",
       "      <td>2</td>\n",
       "      <td>04011112</td>\n",
       "      <td>Bahnhofsvorstadt</td>\n",
       "      <td>04011110</td>\n",
       "      <td>Mitte</td>\n",
       "      <td>04011000</td>\n",
       "      <td>Bremen</td>\n",
       "      <td>MULTIPOLYGON (((4240636.917 3332085.091, 42408...</td>\n",
       "    </tr>\n",
       "    <tr>\n",
       "      <th>1</th>\n",
       "      <td>57</td>\n",
       "      <td>04011421</td>\n",
       "      <td>Regensburger Str.</td>\n",
       "      <td>04011420</td>\n",
       "      <td>Findorff</td>\n",
       "      <td>04011000</td>\n",
       "      <td>Bremen</td>\n",
       "      <td>MULTIPOLYGON (((4240624.468 3332111.614, 42406...</td>\n",
       "    </tr>\n",
       "    <tr>\n",
       "      <th>2</th>\n",
       "      <td>58</td>\n",
       "      <td>04011422</td>\n",
       "      <td>Findorff-Bürgerweide</td>\n",
       "      <td>04011420</td>\n",
       "      <td>Findorff</td>\n",
       "      <td>04011000</td>\n",
       "      <td>Bremen</td>\n",
       "      <td>MULTIPOLYGON (((4241618.875 3331828.474, 42416...</td>\n",
       "    </tr>\n",
       "    <tr>\n",
       "      <th>3</th>\n",
       "      <td>59</td>\n",
       "      <td>04011423</td>\n",
       "      <td>Weidedamm</td>\n",
       "      <td>04011420</td>\n",
       "      <td>Findorff</td>\n",
       "      <td>04011000</td>\n",
       "      <td>Bremen</td>\n",
       "      <td>MULTIPOLYGON (((4241513.217 3331982.701, 42415...</td>\n",
       "    </tr>\n",
       "    <tr>\n",
       "      <th>4</th>\n",
       "      <td>60</td>\n",
       "      <td>04011424</td>\n",
       "      <td>In den Hufen</td>\n",
       "      <td>04011420</td>\n",
       "      <td>Findorff</td>\n",
       "      <td>04011000</td>\n",
       "      <td>Bremen</td>\n",
       "      <td>MULTIPOLYGON (((4241955.019 3334559.957, 42419...</td>\n",
       "    </tr>\n",
       "  </tbody>\n",
       "</table>\n",
       "</div>"
      ],
      "text/plain": [
       "   Neighborhood_FID Neighborhood_Code     Neighborhood_Name District_Code   \n",
       "0                 2          04011112      Bahnhofsvorstadt      04011110  \\\n",
       "1                57          04011421     Regensburger Str.      04011420   \n",
       "2                58          04011422  Findorff-Bürgerweide      04011420   \n",
       "3                59          04011423             Weidedamm      04011420   \n",
       "4                60          04011424          In den Hufen      04011420   \n",
       "\n",
       "  District_Name City_Code City_Name   \n",
       "0         Mitte  04011000    Bremen  \\\n",
       "1      Findorff  04011000    Bremen   \n",
       "2      Findorff  04011000    Bremen   \n",
       "3      Findorff  04011000    Bremen   \n",
       "4      Findorff  04011000    Bremen   \n",
       "\n",
       "                                            geometry  \n",
       "0  MULTIPOLYGON (((4240636.917 3332085.091, 42408...  \n",
       "1  MULTIPOLYGON (((4240624.468 3332111.614, 42406...  \n",
       "2  MULTIPOLYGON (((4241618.875 3331828.474, 42416...  \n",
       "3  MULTIPOLYGON (((4241513.217 3331982.701, 42415...  \n",
       "4  MULTIPOLYGON (((4241955.019 3334559.957, 42419...  "
      ]
     },
     "execution_count": 17,
     "metadata": {},
     "output_type": "execute_result"
    }
   ],
   "source": [
    "neighborhoods_bremen.head()"
   ]
  },
  {
   "cell_type": "code",
   "execution_count": 18,
   "id": "5105e439",
   "metadata": {},
   "outputs": [
    {
     "data": {
      "text/html": [
       "<div>\n",
       "<style scoped>\n",
       "    .dataframe tbody tr th:only-of-type {\n",
       "        vertical-align: middle;\n",
       "    }\n",
       "\n",
       "    .dataframe tbody tr th {\n",
       "        vertical-align: top;\n",
       "    }\n",
       "\n",
       "    .dataframe thead th {\n",
       "        text-align: right;\n",
       "    }\n",
       "</style>\n",
       "<table border=\"1\" class=\"dataframe\">\n",
       "  <thead>\n",
       "    <tr style=\"text-align: right;\">\n",
       "      <th></th>\n",
       "      <th>field_1</th>\n",
       "      <th>Grid_Code</th>\n",
       "      <th>buildings_total_units</th>\n",
       "      <th>n_occupied_by_owner</th>\n",
       "      <th>n_ownership_with_current_household</th>\n",
       "      <th>n_owned_without_current_household</th>\n",
       "      <th>n_rented_for_residential_purposes</th>\n",
       "      <th>n_rented_with_current_household</th>\n",
       "      <th>n_rented_without_current_household</th>\n",
       "      <th>n_vacation_and_leisure</th>\n",
       "      <th>...</th>\n",
       "      <th>h_block</th>\n",
       "      <th>h_central</th>\n",
       "      <th>h_stoves_night</th>\n",
       "      <th>h_no_heating</th>\n",
       "      <th>z_1_apart</th>\n",
       "      <th>z_2_apart</th>\n",
       "      <th>z_3_6_apart</th>\n",
       "      <th>z_7_12_apart</th>\n",
       "      <th>z_13_and_more_apart</th>\n",
       "      <th>geometry</th>\n",
       "    </tr>\n",
       "  </thead>\n",
       "  <tbody>\n",
       "    <tr>\n",
       "      <th>0</th>\n",
       "      <td>9654</td>\n",
       "      <td>100mN33306E42414</td>\n",
       "      <td>47</td>\n",
       "      <td>0</td>\n",
       "      <td>11</td>\n",
       "      <td>0</td>\n",
       "      <td>0</td>\n",
       "      <td>29</td>\n",
       "      <td>4</td>\n",
       "      <td>0</td>\n",
       "      <td>...</td>\n",
       "      <td>0</td>\n",
       "      <td>43</td>\n",
       "      <td>0</td>\n",
       "      <td>0</td>\n",
       "      <td>0</td>\n",
       "      <td>3</td>\n",
       "      <td>18</td>\n",
       "      <td>9</td>\n",
       "      <td>18</td>\n",
       "      <td>None</td>\n",
       "    </tr>\n",
       "    <tr>\n",
       "      <th>1</th>\n",
       "      <td>9655</td>\n",
       "      <td>100mN33306E42415</td>\n",
       "      <td>26</td>\n",
       "      <td>0</td>\n",
       "      <td>4</td>\n",
       "      <td>0</td>\n",
       "      <td>0</td>\n",
       "      <td>21</td>\n",
       "      <td>0</td>\n",
       "      <td>0</td>\n",
       "      <td>...</td>\n",
       "      <td>0</td>\n",
       "      <td>17</td>\n",
       "      <td>0</td>\n",
       "      <td>0</td>\n",
       "      <td>0</td>\n",
       "      <td>3</td>\n",
       "      <td>24</td>\n",
       "      <td>0</td>\n",
       "      <td>0</td>\n",
       "      <td>None</td>\n",
       "    </tr>\n",
       "    <tr>\n",
       "      <th>2</th>\n",
       "      <td>9827</td>\n",
       "      <td>100mN33307E42414</td>\n",
       "      <td>17</td>\n",
       "      <td>0</td>\n",
       "      <td>3</td>\n",
       "      <td>0</td>\n",
       "      <td>0</td>\n",
       "      <td>14</td>\n",
       "      <td>0</td>\n",
       "      <td>0</td>\n",
       "      <td>...</td>\n",
       "      <td>0</td>\n",
       "      <td>17</td>\n",
       "      <td>0</td>\n",
       "      <td>0</td>\n",
       "      <td>0</td>\n",
       "      <td>0</td>\n",
       "      <td>0</td>\n",
       "      <td>0</td>\n",
       "      <td>16</td>\n",
       "      <td>None</td>\n",
       "    </tr>\n",
       "    <tr>\n",
       "      <th>3</th>\n",
       "      <td>9828</td>\n",
       "      <td>100mN33307E42415</td>\n",
       "      <td>166</td>\n",
       "      <td>0</td>\n",
       "      <td>5</td>\n",
       "      <td>0</td>\n",
       "      <td>0</td>\n",
       "      <td>149</td>\n",
       "      <td>0</td>\n",
       "      <td>0</td>\n",
       "      <td>...</td>\n",
       "      <td>0</td>\n",
       "      <td>161</td>\n",
       "      <td>0</td>\n",
       "      <td>0</td>\n",
       "      <td>0</td>\n",
       "      <td>0</td>\n",
       "      <td>5</td>\n",
       "      <td>12</td>\n",
       "      <td>149</td>\n",
       "      <td>None</td>\n",
       "    </tr>\n",
       "    <tr>\n",
       "      <th>4</th>\n",
       "      <td>9829</td>\n",
       "      <td>100mN33307E42416</td>\n",
       "      <td>203</td>\n",
       "      <td>0</td>\n",
       "      <td>18</td>\n",
       "      <td>0</td>\n",
       "      <td>0</td>\n",
       "      <td>172</td>\n",
       "      <td>3</td>\n",
       "      <td>0</td>\n",
       "      <td>...</td>\n",
       "      <td>0</td>\n",
       "      <td>188</td>\n",
       "      <td>0</td>\n",
       "      <td>0</td>\n",
       "      <td>0</td>\n",
       "      <td>0</td>\n",
       "      <td>9</td>\n",
       "      <td>0</td>\n",
       "      <td>188</td>\n",
       "      <td>None</td>\n",
       "    </tr>\n",
       "  </tbody>\n",
       "</table>\n",
       "<p>5 rows × 76 columns</p>\n",
       "</div>"
      ],
      "text/plain": [
       "  field_1         Grid_Code buildings_total_units n_occupied_by_owner   \n",
       "0    9654  100mN33306E42414                    47                   0  \\\n",
       "1    9655  100mN33306E42415                    26                   0   \n",
       "2    9827  100mN33307E42414                    17                   0   \n",
       "3    9828  100mN33307E42415                   166                   0   \n",
       "4    9829  100mN33307E42416                   203                   0   \n",
       "\n",
       "  n_ownership_with_current_household n_owned_without_current_household   \n",
       "0                                 11                                 0  \\\n",
       "1                                  4                                 0   \n",
       "2                                  3                                 0   \n",
       "3                                  5                                 0   \n",
       "4                                 18                                 0   \n",
       "\n",
       "  n_rented_for_residential_purposes n_rented_with_current_household   \n",
       "0                                 0                              29  \\\n",
       "1                                 0                              21   \n",
       "2                                 0                              14   \n",
       "3                                 0                             149   \n",
       "4                                 0                             172   \n",
       "\n",
       "  n_rented_without_current_household n_vacation_and_leisure  ... h_block   \n",
       "0                                  4                      0  ...       0  \\\n",
       "1                                  0                      0  ...       0   \n",
       "2                                  0                      0  ...       0   \n",
       "3                                  0                      0  ...       0   \n",
       "4                                  3                      0  ...       0   \n",
       "\n",
       "  h_central h_stoves_night h_no_heating z_1_apart z_2_apart z_3_6_apart   \n",
       "0        43              0            0         0         3          18  \\\n",
       "1        17              0            0         0         3          24   \n",
       "2        17              0            0         0         0           0   \n",
       "3       161              0            0         0         0           5   \n",
       "4       188              0            0         0         0           9   \n",
       "\n",
       "  z_7_12_apart z_13_and_more_apart geometry  \n",
       "0            9                  18     None  \n",
       "1            0                   0     None  \n",
       "2            0                  16     None  \n",
       "3           12                 149     None  \n",
       "4            0                 188     None  \n",
       "\n",
       "[5 rows x 76 columns]"
      ]
     },
     "execution_count": 18,
     "metadata": {},
     "output_type": "execute_result"
    }
   ],
   "source": [
    "buildings_bremen.head()"
   ]
  },
  {
   "cell_type": "code",
   "execution_count": 15,
   "id": "99b8b420",
   "metadata": {},
   "outputs": [
    {
     "name": "stderr",
     "output_type": "stream",
     "text": [
      "C:\\Users\\nb\\anaconda3\\envs\\ifohack_spatial_py310\\lib\\site-packages\\geopandas\\array.py:938: RuntimeWarning: All-NaN slice encountered\n",
      "  np.nanmin(b[:, 0]),  # minx\n",
      "C:\\Users\\nb\\anaconda3\\envs\\ifohack_spatial_py310\\lib\\site-packages\\geopandas\\array.py:939: RuntimeWarning: All-NaN slice encountered\n",
      "  np.nanmin(b[:, 1]),  # miny\n",
      "C:\\Users\\nb\\anaconda3\\envs\\ifohack_spatial_py310\\lib\\site-packages\\geopandas\\array.py:940: RuntimeWarning: All-NaN slice encountered\n",
      "  np.nanmax(b[:, 2]),  # maxx\n",
      "C:\\Users\\nb\\anaconda3\\envs\\ifohack_spatial_py310\\lib\\site-packages\\geopandas\\array.py:941: RuntimeWarning: All-NaN slice encountered\n",
      "  np.nanmax(b[:, 3]),  # maxy\n"
     ]
    },
    {
     "ename": "TypeError",
     "evalue": "'NoneType' object is not subscriptable",
     "output_type": "error",
     "traceback": [
      "\u001b[1;31m---------------------------------------------------------------------------\u001b[0m",
      "\u001b[1;31mTypeError\u001b[0m                                 Traceback (most recent call last)",
      "File \u001b[1;32m~\\anaconda3\\envs\\ifohack_spatial_py310\\lib\\site-packages\\IPython\\core\\formatters.py:344\u001b[0m, in \u001b[0;36mBaseFormatter.__call__\u001b[1;34m(self, obj)\u001b[0m\n\u001b[0;32m    342\u001b[0m     method \u001b[38;5;241m=\u001b[39m get_real_method(obj, \u001b[38;5;28mself\u001b[39m\u001b[38;5;241m.\u001b[39mprint_method)\n\u001b[0;32m    343\u001b[0m     \u001b[38;5;28;01mif\u001b[39;00m method \u001b[38;5;129;01mis\u001b[39;00m \u001b[38;5;129;01mnot\u001b[39;00m \u001b[38;5;28;01mNone\u001b[39;00m:\n\u001b[1;32m--> 344\u001b[0m         \u001b[38;5;28;01mreturn\u001b[39;00m \u001b[43mmethod\u001b[49m\u001b[43m(\u001b[49m\u001b[43m)\u001b[49m\n\u001b[0;32m    345\u001b[0m     \u001b[38;5;28;01mreturn\u001b[39;00m \u001b[38;5;28;01mNone\u001b[39;00m\n\u001b[0;32m    346\u001b[0m \u001b[38;5;28;01melse\u001b[39;00m:\n",
      "File \u001b[1;32m~\\anaconda3\\envs\\ifohack_spatial_py310\\lib\\site-packages\\folium\\folium.py:319\u001b[0m, in \u001b[0;36mMap._repr_html_\u001b[1;34m(self, **kwargs)\u001b[0m\n\u001b[0;32m    317\u001b[0m     \u001b[38;5;28mself\u001b[39m\u001b[38;5;241m.\u001b[39m_parent \u001b[38;5;241m=\u001b[39m \u001b[38;5;28;01mNone\u001b[39;00m\n\u001b[0;32m    318\u001b[0m \u001b[38;5;28;01melse\u001b[39;00m:\n\u001b[1;32m--> 319\u001b[0m     out \u001b[38;5;241m=\u001b[39m \u001b[38;5;28mself\u001b[39m\u001b[38;5;241m.\u001b[39m_parent\u001b[38;5;241m.\u001b[39m_repr_html_(\u001b[38;5;241m*\u001b[39m\u001b[38;5;241m*\u001b[39mkwargs)\n\u001b[0;32m    320\u001b[0m \u001b[38;5;28;01mreturn\u001b[39;00m out\n",
      "File \u001b[1;32m~\\anaconda3\\envs\\ifohack_spatial_py310\\lib\\site-packages\\branca\\element.py:343\u001b[0m, in \u001b[0;36mFigure._repr_html_\u001b[1;34m(self, **kwargs)\u001b[0m\n\u001b[0;32m    341\u001b[0m \u001b[38;5;28;01mdef\u001b[39;00m \u001b[38;5;21m_repr_html_\u001b[39m(\u001b[38;5;28mself\u001b[39m, \u001b[38;5;241m*\u001b[39m\u001b[38;5;241m*\u001b[39mkwargs):\n\u001b[0;32m    342\u001b[0m \u001b[38;5;250m    \u001b[39m\u001b[38;5;124;03m\"\"\"Displays the Figure in a Jupyter notebook.\"\"\"\u001b[39;00m\n\u001b[1;32m--> 343\u001b[0m     html \u001b[38;5;241m=\u001b[39m escape(\u001b[38;5;28mself\u001b[39m\u001b[38;5;241m.\u001b[39mrender(\u001b[38;5;241m*\u001b[39m\u001b[38;5;241m*\u001b[39mkwargs))\n\u001b[0;32m    344\u001b[0m     \u001b[38;5;28;01mif\u001b[39;00m \u001b[38;5;28mself\u001b[39m\u001b[38;5;241m.\u001b[39mheight \u001b[38;5;129;01mis\u001b[39;00m \u001b[38;5;28;01mNone\u001b[39;00m:\n\u001b[0;32m    345\u001b[0m         iframe \u001b[38;5;241m=\u001b[39m (\n\u001b[0;32m    346\u001b[0m             \u001b[38;5;124m'\u001b[39m\u001b[38;5;124m<div style=\u001b[39m\u001b[38;5;124m\"\u001b[39m\u001b[38;5;124mwidth:\u001b[39m\u001b[38;5;132;01m{width}\u001b[39;00m\u001b[38;5;124m;\u001b[39m\u001b[38;5;124m\"\u001b[39m\u001b[38;5;124m>\u001b[39m\u001b[38;5;124m'\u001b[39m\n\u001b[0;32m    347\u001b[0m             \u001b[38;5;124m'\u001b[39m\u001b[38;5;124m<div style=\u001b[39m\u001b[38;5;124m\"\u001b[39m\u001b[38;5;124mposition:relative;width:100\u001b[39m\u001b[38;5;124m%\u001b[39m\u001b[38;5;124m;height:0;padding-bottom:\u001b[39m\u001b[38;5;132;01m{ratio}\u001b[39;00m\u001b[38;5;124m;\u001b[39m\u001b[38;5;124m\"\u001b[39m\u001b[38;5;124m>\u001b[39m\u001b[38;5;124m'\u001b[39m  \u001b[38;5;66;03m# noqa\u001b[39;00m\n\u001b[1;32m   (...)\u001b[0m\n\u001b[0;32m    353\u001b[0m             \u001b[38;5;124m'\u001b[39m\u001b[38;5;124m</div></div>\u001b[39m\u001b[38;5;124m'\u001b[39m\n\u001b[0;32m    354\u001b[0m         )\u001b[38;5;241m.\u001b[39mformat(html\u001b[38;5;241m=\u001b[39mhtml, width\u001b[38;5;241m=\u001b[39m\u001b[38;5;28mself\u001b[39m\u001b[38;5;241m.\u001b[39mwidth, ratio\u001b[38;5;241m=\u001b[39m\u001b[38;5;28mself\u001b[39m\u001b[38;5;241m.\u001b[39mratio)\n",
      "File \u001b[1;32m~\\anaconda3\\envs\\ifohack_spatial_py310\\lib\\site-packages\\branca\\element.py:338\u001b[0m, in \u001b[0;36mFigure.render\u001b[1;34m(self, **kwargs)\u001b[0m\n\u001b[0;32m    336\u001b[0m \u001b[38;5;250m\u001b[39m\u001b[38;5;124;03m\"\"\"Renders the HTML representation of the element.\"\"\"\u001b[39;00m\n\u001b[0;32m    337\u001b[0m \u001b[38;5;28;01mfor\u001b[39;00m name, child \u001b[38;5;129;01min\u001b[39;00m \u001b[38;5;28mself\u001b[39m\u001b[38;5;241m.\u001b[39m_children\u001b[38;5;241m.\u001b[39mitems():\n\u001b[1;32m--> 338\u001b[0m     child\u001b[38;5;241m.\u001b[39mrender(\u001b[38;5;241m*\u001b[39m\u001b[38;5;241m*\u001b[39mkwargs)\n\u001b[0;32m    339\u001b[0m \u001b[38;5;28;01mreturn\u001b[39;00m \u001b[38;5;28mself\u001b[39m\u001b[38;5;241m.\u001b[39m_template\u001b[38;5;241m.\u001b[39mrender(this\u001b[38;5;241m=\u001b[39m\u001b[38;5;28mself\u001b[39m, kwargs\u001b[38;5;241m=\u001b[39mkwargs)\n",
      "File \u001b[1;32m~\\anaconda3\\envs\\ifohack_spatial_py310\\lib\\site-packages\\folium\\folium.py:401\u001b[0m, in \u001b[0;36mMap.render\u001b[1;34m(self, **kwargs)\u001b[0m\n\u001b[0;32m    374\u001b[0m figure\u001b[38;5;241m.\u001b[39mheader\u001b[38;5;241m.\u001b[39madd_child(\n\u001b[0;32m    375\u001b[0m     Element(\n\u001b[0;32m    376\u001b[0m         \u001b[38;5;124m\"\u001b[39m\u001b[38;5;124m<style>html, body \u001b[39m\u001b[38;5;124m{\u001b[39m\u001b[38;5;124m\"\u001b[39m\n\u001b[1;32m   (...)\u001b[0m\n\u001b[0;32m    384\u001b[0m     name\u001b[38;5;241m=\u001b[39m\u001b[38;5;124m\"\u001b[39m\u001b[38;5;124mcss_style\u001b[39m\u001b[38;5;124m\"\u001b[39m,\n\u001b[0;32m    385\u001b[0m )\n\u001b[0;32m    387\u001b[0m figure\u001b[38;5;241m.\u001b[39mheader\u001b[38;5;241m.\u001b[39madd_child(\n\u001b[0;32m    388\u001b[0m     Element(\n\u001b[0;32m    389\u001b[0m         \u001b[38;5;124m\"\u001b[39m\u001b[38;5;124m<style>#map \u001b[39m\u001b[38;5;124m{\u001b[39m\u001b[38;5;124m\"\u001b[39m\n\u001b[1;32m   (...)\u001b[0m\n\u001b[0;32m    398\u001b[0m     name\u001b[38;5;241m=\u001b[39m\u001b[38;5;124m\"\u001b[39m\u001b[38;5;124mmap_style\u001b[39m\u001b[38;5;124m\"\u001b[39m,\n\u001b[0;32m    399\u001b[0m )\n\u001b[1;32m--> 401\u001b[0m \u001b[38;5;28msuper\u001b[39m()\u001b[38;5;241m.\u001b[39mrender(\u001b[38;5;241m*\u001b[39m\u001b[38;5;241m*\u001b[39mkwargs)\n",
      "File \u001b[1;32m~\\anaconda3\\envs\\ifohack_spatial_py310\\lib\\site-packages\\folium\\elements.py:22\u001b[0m, in \u001b[0;36mJSCSSMixin.render\u001b[1;34m(self, **kwargs)\u001b[0m\n\u001b[0;32m     19\u001b[0m \u001b[38;5;28;01mfor\u001b[39;00m name, url \u001b[38;5;129;01min\u001b[39;00m \u001b[38;5;28mself\u001b[39m\u001b[38;5;241m.\u001b[39mdefault_css:\n\u001b[0;32m     20\u001b[0m     figure\u001b[38;5;241m.\u001b[39mheader\u001b[38;5;241m.\u001b[39madd_child(CssLink(url), name\u001b[38;5;241m=\u001b[39mname)\n\u001b[1;32m---> 22\u001b[0m \u001b[38;5;28msuper\u001b[39m()\u001b[38;5;241m.\u001b[39mrender(\u001b[38;5;241m*\u001b[39m\u001b[38;5;241m*\u001b[39mkwargs)\n",
      "File \u001b[1;32m~\\anaconda3\\envs\\ifohack_spatial_py310\\lib\\site-packages\\branca\\element.py:645\u001b[0m, in \u001b[0;36mMacroElement.render\u001b[1;34m(self, **kwargs)\u001b[0m\n\u001b[0;32m    641\u001b[0m     figure\u001b[38;5;241m.\u001b[39mscript\u001b[38;5;241m.\u001b[39madd_child(Element(script(\u001b[38;5;28mself\u001b[39m, kwargs)),\n\u001b[0;32m    642\u001b[0m                             name\u001b[38;5;241m=\u001b[39m\u001b[38;5;28mself\u001b[39m\u001b[38;5;241m.\u001b[39mget_name())\n\u001b[0;32m    644\u001b[0m \u001b[38;5;28;01mfor\u001b[39;00m name, element \u001b[38;5;129;01min\u001b[39;00m \u001b[38;5;28mself\u001b[39m\u001b[38;5;241m.\u001b[39m_children\u001b[38;5;241m.\u001b[39mitems():\n\u001b[1;32m--> 645\u001b[0m     element\u001b[38;5;241m.\u001b[39mrender(\u001b[38;5;241m*\u001b[39m\u001b[38;5;241m*\u001b[39mkwargs)\n",
      "File \u001b[1;32m~\\anaconda3\\envs\\ifohack_spatial_py310\\lib\\site-packages\\folium\\features.py:782\u001b[0m, in \u001b[0;36mGeoJson.render\u001b[1;34m(self, **kwargs)\u001b[0m\n\u001b[0;32m    780\u001b[0m     \u001b[38;5;28;01mif\u001b[39;00m \u001b[38;5;28mself\u001b[39m\u001b[38;5;241m.\u001b[39mhighlight:\n\u001b[0;32m    781\u001b[0m         \u001b[38;5;28mself\u001b[39m\u001b[38;5;241m.\u001b[39mhighlight_map \u001b[38;5;241m=\u001b[39m mapper\u001b[38;5;241m.\u001b[39mget_highlight_map(\u001b[38;5;28mself\u001b[39m\u001b[38;5;241m.\u001b[39mhighlight_function)\n\u001b[1;32m--> 782\u001b[0m \u001b[38;5;28;43msuper\u001b[39;49m\u001b[43m(\u001b[49m\u001b[43m)\u001b[49m\u001b[38;5;241;43m.\u001b[39;49m\u001b[43mrender\u001b[49m\u001b[43m(\u001b[49m\u001b[43m)\u001b[49m\n",
      "File \u001b[1;32m~\\anaconda3\\envs\\ifohack_spatial_py310\\lib\\site-packages\\branca\\element.py:645\u001b[0m, in \u001b[0;36mMacroElement.render\u001b[1;34m(self, **kwargs)\u001b[0m\n\u001b[0;32m    641\u001b[0m     figure\u001b[38;5;241m.\u001b[39mscript\u001b[38;5;241m.\u001b[39madd_child(Element(script(\u001b[38;5;28mself\u001b[39m, kwargs)),\n\u001b[0;32m    642\u001b[0m                             name\u001b[38;5;241m=\u001b[39m\u001b[38;5;28mself\u001b[39m\u001b[38;5;241m.\u001b[39mget_name())\n\u001b[0;32m    644\u001b[0m \u001b[38;5;28;01mfor\u001b[39;00m name, element \u001b[38;5;129;01min\u001b[39;00m \u001b[38;5;28mself\u001b[39m\u001b[38;5;241m.\u001b[39m_children\u001b[38;5;241m.\u001b[39mitems():\n\u001b[1;32m--> 645\u001b[0m     element\u001b[38;5;241m.\u001b[39mrender(\u001b[38;5;241m*\u001b[39m\u001b[38;5;241m*\u001b[39mkwargs)\n",
      "File \u001b[1;32m~\\anaconda3\\envs\\ifohack_spatial_py310\\lib\\site-packages\\folium\\features.py:1116\u001b[0m, in \u001b[0;36mGeoJsonDetail.render\u001b[1;34m(self, **kwargs)\u001b[0m\n\u001b[0;32m   1114\u001b[0m \u001b[38;5;28;01mif\u001b[39;00m \u001b[38;5;28misinstance\u001b[39m(\u001b[38;5;28mself\u001b[39m\u001b[38;5;241m.\u001b[39m_parent, GeoJson):\n\u001b[0;32m   1115\u001b[0m     keys \u001b[38;5;241m=\u001b[39m \u001b[38;5;28mtuple\u001b[39m(\u001b[38;5;28mself\u001b[39m\u001b[38;5;241m.\u001b[39m_parent\u001b[38;5;241m.\u001b[39mdata[\u001b[38;5;124m\"\u001b[39m\u001b[38;5;124mfeatures\u001b[39m\u001b[38;5;124m\"\u001b[39m][\u001b[38;5;241m0\u001b[39m][\u001b[38;5;124m\"\u001b[39m\u001b[38;5;124mproperties\u001b[39m\u001b[38;5;124m\"\u001b[39m]\u001b[38;5;241m.\u001b[39mkeys())\n\u001b[1;32m-> 1116\u001b[0m     \u001b[38;5;28;43mself\u001b[39;49m\u001b[38;5;241;43m.\u001b[39;49m\u001b[43mwarn_for_geometry_collections\u001b[49m\u001b[43m(\u001b[49m\u001b[43m)\u001b[49m\n\u001b[0;32m   1117\u001b[0m \u001b[38;5;28;01melif\u001b[39;00m \u001b[38;5;28misinstance\u001b[39m(\u001b[38;5;28mself\u001b[39m\u001b[38;5;241m.\u001b[39m_parent, TopoJson):\n\u001b[0;32m   1118\u001b[0m     obj_name \u001b[38;5;241m=\u001b[39m \u001b[38;5;28mself\u001b[39m\u001b[38;5;241m.\u001b[39m_parent\u001b[38;5;241m.\u001b[39mobject_path\u001b[38;5;241m.\u001b[39msplit(\u001b[38;5;124m\"\u001b[39m\u001b[38;5;124m.\u001b[39m\u001b[38;5;124m\"\u001b[39m)[\u001b[38;5;241m-\u001b[39m\u001b[38;5;241m1\u001b[39m]\n",
      "File \u001b[1;32m~\\anaconda3\\envs\\ifohack_spatial_py310\\lib\\site-packages\\folium\\features.py:1096\u001b[0m, in \u001b[0;36mGeoJsonDetail.warn_for_geometry_collections\u001b[1;34m(self)\u001b[0m\n\u001b[0;32m   1094\u001b[0m \u001b[38;5;28;01mdef\u001b[39;00m \u001b[38;5;21mwarn_for_geometry_collections\u001b[39m(\u001b[38;5;28mself\u001b[39m):\n\u001b[0;32m   1095\u001b[0m \u001b[38;5;250m    \u001b[39m\u001b[38;5;124;03m\"\"\"Checks for GeoJson GeometryCollection features to warn user about incompatibility.\"\"\"\u001b[39;00m\n\u001b[1;32m-> 1096\u001b[0m     geom_collections \u001b[38;5;241m=\u001b[39m [\n\u001b[0;32m   1097\u001b[0m         feature\u001b[38;5;241m.\u001b[39mget(\u001b[38;5;124m\"\u001b[39m\u001b[38;5;124mproperties\u001b[39m\u001b[38;5;124m\"\u001b[39m) \u001b[38;5;28;01mif\u001b[39;00m feature\u001b[38;5;241m.\u001b[39mget(\u001b[38;5;124m\"\u001b[39m\u001b[38;5;124mproperties\u001b[39m\u001b[38;5;124m\"\u001b[39m) \u001b[38;5;129;01mis\u001b[39;00m \u001b[38;5;129;01mnot\u001b[39;00m \u001b[38;5;28;01mNone\u001b[39;00m \u001b[38;5;28;01melse\u001b[39;00m key\n\u001b[0;32m   1098\u001b[0m         \u001b[38;5;28;01mfor\u001b[39;00m key, feature \u001b[38;5;129;01min\u001b[39;00m \u001b[38;5;28menumerate\u001b[39m(\u001b[38;5;28mself\u001b[39m\u001b[38;5;241m.\u001b[39m_parent\u001b[38;5;241m.\u001b[39mdata[\u001b[38;5;124m\"\u001b[39m\u001b[38;5;124mfeatures\u001b[39m\u001b[38;5;124m\"\u001b[39m])\n\u001b[0;32m   1099\u001b[0m         \u001b[38;5;28;01mif\u001b[39;00m feature[\u001b[38;5;124m\"\u001b[39m\u001b[38;5;124mgeometry\u001b[39m\u001b[38;5;124m\"\u001b[39m][\u001b[38;5;124m\"\u001b[39m\u001b[38;5;124mtype\u001b[39m\u001b[38;5;124m\"\u001b[39m] \u001b[38;5;241m==\u001b[39m \u001b[38;5;124m\"\u001b[39m\u001b[38;5;124mGeometryCollection\u001b[39m\u001b[38;5;124m\"\u001b[39m\n\u001b[0;32m   1100\u001b[0m     ]\n\u001b[0;32m   1101\u001b[0m     \u001b[38;5;28;01mif\u001b[39;00m \u001b[38;5;28many\u001b[39m(geom_collections):\n\u001b[0;32m   1102\u001b[0m         warnings\u001b[38;5;241m.\u001b[39mwarn(\n\u001b[0;32m   1103\u001b[0m             \u001b[38;5;124m\"\u001b[39m\u001b[38;5;132;01m{}\u001b[39;00m\u001b[38;5;124m is not configured to render for GeoJson GeometryCollection geometries. \u001b[39m\u001b[38;5;124m\"\u001b[39m\n\u001b[0;32m   1104\u001b[0m             \u001b[38;5;124m\"\u001b[39m\u001b[38;5;124mPlease consider reworking these features: \u001b[39m\u001b[38;5;132;01m{}\u001b[39;00m\u001b[38;5;124m to MultiPolygon for full functionality.\u001b[39m\u001b[38;5;130;01m\\n\u001b[39;00m\u001b[38;5;124m\"\u001b[39m\n\u001b[1;32m   (...)\u001b[0m\n\u001b[0;32m   1108\u001b[0m             \u001b[38;5;167;01mUserWarning\u001b[39;00m,\n\u001b[0;32m   1109\u001b[0m         )\n",
      "File \u001b[1;32m~\\anaconda3\\envs\\ifohack_spatial_py310\\lib\\site-packages\\folium\\features.py:1099\u001b[0m, in \u001b[0;36m<listcomp>\u001b[1;34m(.0)\u001b[0m\n\u001b[0;32m   1094\u001b[0m \u001b[38;5;28;01mdef\u001b[39;00m \u001b[38;5;21mwarn_for_geometry_collections\u001b[39m(\u001b[38;5;28mself\u001b[39m):\n\u001b[0;32m   1095\u001b[0m \u001b[38;5;250m    \u001b[39m\u001b[38;5;124;03m\"\"\"Checks for GeoJson GeometryCollection features to warn user about incompatibility.\"\"\"\u001b[39;00m\n\u001b[0;32m   1096\u001b[0m     geom_collections \u001b[38;5;241m=\u001b[39m [\n\u001b[0;32m   1097\u001b[0m         feature\u001b[38;5;241m.\u001b[39mget(\u001b[38;5;124m\"\u001b[39m\u001b[38;5;124mproperties\u001b[39m\u001b[38;5;124m\"\u001b[39m) \u001b[38;5;28;01mif\u001b[39;00m feature\u001b[38;5;241m.\u001b[39mget(\u001b[38;5;124m\"\u001b[39m\u001b[38;5;124mproperties\u001b[39m\u001b[38;5;124m\"\u001b[39m) \u001b[38;5;129;01mis\u001b[39;00m \u001b[38;5;129;01mnot\u001b[39;00m \u001b[38;5;28;01mNone\u001b[39;00m \u001b[38;5;28;01melse\u001b[39;00m key\n\u001b[0;32m   1098\u001b[0m         \u001b[38;5;28;01mfor\u001b[39;00m key, feature \u001b[38;5;129;01min\u001b[39;00m \u001b[38;5;28menumerate\u001b[39m(\u001b[38;5;28mself\u001b[39m\u001b[38;5;241m.\u001b[39m_parent\u001b[38;5;241m.\u001b[39mdata[\u001b[38;5;124m\"\u001b[39m\u001b[38;5;124mfeatures\u001b[39m\u001b[38;5;124m\"\u001b[39m])\n\u001b[1;32m-> 1099\u001b[0m         \u001b[38;5;28;01mif\u001b[39;00m \u001b[43mfeature\u001b[49m\u001b[43m[\u001b[49m\u001b[38;5;124;43m\"\u001b[39;49m\u001b[38;5;124;43mgeometry\u001b[39;49m\u001b[38;5;124;43m\"\u001b[39;49m\u001b[43m]\u001b[49m\u001b[43m[\u001b[49m\u001b[38;5;124;43m\"\u001b[39;49m\u001b[38;5;124;43mtype\u001b[39;49m\u001b[38;5;124;43m\"\u001b[39;49m\u001b[43m]\u001b[49m \u001b[38;5;241m==\u001b[39m \u001b[38;5;124m\"\u001b[39m\u001b[38;5;124mGeometryCollection\u001b[39m\u001b[38;5;124m\"\u001b[39m\n\u001b[0;32m   1100\u001b[0m     ]\n\u001b[0;32m   1101\u001b[0m     \u001b[38;5;28;01mif\u001b[39;00m \u001b[38;5;28many\u001b[39m(geom_collections):\n\u001b[0;32m   1102\u001b[0m         warnings\u001b[38;5;241m.\u001b[39mwarn(\n\u001b[0;32m   1103\u001b[0m             \u001b[38;5;124m\"\u001b[39m\u001b[38;5;132;01m{}\u001b[39;00m\u001b[38;5;124m is not configured to render for GeoJson GeometryCollection geometries. \u001b[39m\u001b[38;5;124m\"\u001b[39m\n\u001b[0;32m   1104\u001b[0m             \u001b[38;5;124m\"\u001b[39m\u001b[38;5;124mPlease consider reworking these features: \u001b[39m\u001b[38;5;132;01m{}\u001b[39;00m\u001b[38;5;124m to MultiPolygon for full functionality.\u001b[39m\u001b[38;5;130;01m\\n\u001b[39;00m\u001b[38;5;124m\"\u001b[39m\n\u001b[1;32m   (...)\u001b[0m\n\u001b[0;32m   1108\u001b[0m             \u001b[38;5;167;01mUserWarning\u001b[39;00m,\n\u001b[0;32m   1109\u001b[0m         )\n",
      "\u001b[1;31mTypeError\u001b[0m: 'NoneType' object is not subscriptable"
     ]
    },
    {
     "data": {
      "text/plain": [
       "<folium.folium.Map at 0x222e6bdc8b0>"
      ]
     },
     "execution_count": 15,
     "metadata": {},
     "output_type": "execute_result"
    }
   ],
   "source": [
    "m = neighborhoods_bremen.explore(height=500, width=1000, name=\"Neighborhoods\")\n",
    "m = buildings_bremen.explore(m=m, color=\"red\", name=\"Buildings\")\n",
    "\n",
    "folium.LayerControl().add_to(m)\n",
    "m"
   ]
  },
  {
   "cell_type": "markdown",
   "id": "9a438506",
   "metadata": {},
   "source": [
    "So let´s say we are just interested in the neighborhood Westend and its buildings -\n",
    "For that we slice the disctricts to just one element and clip (cut) the buildings to its geometry:"
   ]
  },
  {
   "cell_type": "code",
   "execution_count": 16,
   "id": "21cb1ea8",
   "metadata": {},
   "outputs": [
    {
     "name": "stderr",
     "output_type": "stream",
     "text": [
      "C:\\Users\\nb\\anaconda3\\envs\\ifohack_spatial_py310\\lib\\site-packages\\geopandas\\geodataframe.py:2233: UserWarning: CRS mismatch between the CRS of left geometries and the CRS of right geometries.\n",
      "Use `to_crs()` to reproject one of the input geometries to match the CRS of the other.\n",
      "\n",
      "Left CRS: None\n",
      "Right CRS: EPSG:3035\n",
      "\n",
      "  return geopandas.clip(self, mask=mask, keep_geom_type=keep_geom_type)\n",
      "C:\\Users\\nb\\anaconda3\\envs\\ifohack_spatial_py310\\lib\\site-packages\\geopandas\\array.py:938: RuntimeWarning: All-NaN slice encountered\n",
      "  np.nanmin(b[:, 0]),  # minx\n",
      "C:\\Users\\nb\\anaconda3\\envs\\ifohack_spatial_py310\\lib\\site-packages\\geopandas\\array.py:939: RuntimeWarning: All-NaN slice encountered\n",
      "  np.nanmin(b[:, 1]),  # miny\n",
      "C:\\Users\\nb\\anaconda3\\envs\\ifohack_spatial_py310\\lib\\site-packages\\geopandas\\array.py:940: RuntimeWarning: All-NaN slice encountered\n",
      "  np.nanmax(b[:, 2]),  # maxx\n",
      "C:\\Users\\nb\\anaconda3\\envs\\ifohack_spatial_py310\\lib\\site-packages\\geopandas\\array.py:941: RuntimeWarning: All-NaN slice encountered\n",
      "  np.nanmax(b[:, 3]),  # maxy\n"
     ]
    }
   ],
   "source": [
    "westend = neighborhoods_bremen.loc[neighborhoods_bremen.Neighborhood_Name == \"Westend\"]\n",
    "buildings_westend = buildings_bremen.clip(westend.geometry)"
   ]
  },
  {
   "cell_type": "markdown",
   "id": "cbecf6b6",
   "metadata": {},
   "source": [
    "As you can see the newly created dataset just contains values for the neighborhood called Westend."
   ]
  },
  {
   "cell_type": "code",
   "execution_count": null,
   "id": "cea97acd",
   "metadata": {
    "scrolled": true
   },
   "outputs": [],
   "source": [
    "m = westend.explore(height=500, width=1000, name=\"Neighborhoods\")\n",
    "m = buildings_westend.explore(m=m, color=\"red\", name=\"Buildings\")\n",
    "\n",
    "folium.LayerControl().add_to(m)\n",
    "m"
   ]
  },
  {
   "cell_type": "markdown",
   "id": "cf590241",
   "metadata": {},
   "source": [
    "# Vector Calculations - Building Density"
   ]
  },
  {
   "cell_type": "markdown",
   "id": "7e838a22",
   "metadata": {},
   "source": [
    "With this type of data we could for example calculate the built-up density of the neighborhood. For this we need the area of the total neighborhood and the area of all buildings inside it. We wil use functions from geopandas. The function .area gets as the real area of the object in square meters."
   ]
  },
  {
   "cell_type": "code",
   "execution_count": null,
   "id": "cd473c07",
   "metadata": {},
   "outputs": [],
   "source": [
    "westend_area = westend.area.values[0]\n",
    "buildings_area = np.sum(buildings_westend.area)\n",
    "print(westend_area)\n",
    "print(buildings_area)"
   ]
  },
  {
   "cell_type": "code",
   "execution_count": null,
   "id": "bde51918",
   "metadata": {},
   "outputs": [],
   "source": [
    "building_density = buildings_area / westend_area * 100\n",
    "print(building_density)"
   ]
  },
  {
   "cell_type": "markdown",
   "id": "2e9193cb",
   "metadata": {},
   "source": [
    "Now we can see that in Westend about 28% of the whole neighborhood is covered with buildings."
   ]
  },
  {
   "cell_type": "markdown",
   "id": "03b723a0",
   "metadata": {},
   "source": [
    "# Vector Calculation II. Building Densities\n",
    "Now it is an easy task to get the building densities for the whole neighborhood by just looping over it and iteratively calculate the building density neighborhood by neighborhood."
   ]
  },
  {
   "cell_type": "markdown",
   "id": "9e950819",
   "metadata": {},
   "source": [
    "First we have to create an empty list where our building densities get stored. Then we loop over all neighborhood names and can slice our file into a smaller subset. For every subset (one neighborhood) we use the clip function to get just the relevant buildings. The sum of the building areas gets divided by the total area of the neighborhood - resulting the building density."
   ]
  },
  {
   "cell_type": "code",
   "execution_count": null,
   "id": "32df8fc0",
   "metadata": {},
   "outputs": [],
   "source": [
    "building_density = []  # Empty List which gets filled iteratively\n",
    "neighborhood_names = neighborhoods_bremen.Neighborhood_Name.values  # Needed for loop and indexing\n",
    "\n",
    "for neighborhood in neighborhood_names:\n",
    "    subset = neighborhoods_bremen.loc[neighborhoods_bremen.Neighborhood_Name == neighborhood]  # Get one neighborhood\n",
    "    buildings_clip = buildings_bremen.clip(subset.geometry)  # Clip all buildings to one neighborhood\n",
    "    building_density.append(np.sum(buildings_clip.area) / subset.area.values[0] * 100)  #  Building Area / Total Area = Density\n",
    "    \n",
    "neighborhoods_bremen[\"Building_Density\"] = building_density  # Add new list to dataframe"
   ]
  },
  {
   "cell_type": "markdown",
   "id": "b4a34ea1",
   "metadata": {},
   "source": [
    "If we want we can look at the first 5 rows of the new dataframe:"
   ]
  },
  {
   "cell_type": "code",
   "execution_count": null,
   "id": "cef16d98",
   "metadata": {},
   "outputs": [],
   "source": [
    "neighborhoods_bremen.head()"
   ]
  },
  {
   "cell_type": "markdown",
   "id": "8a2e5305",
   "metadata": {},
   "source": [
    "# Visualization of the Results \n",
    "Now we want to visualize our Results again. Now we color our neighborhoods by building density. Blue is low - red is high."
   ]
  },
  {
   "cell_type": "code",
   "execution_count": null,
   "id": "cf929a7a",
   "metadata": {},
   "outputs": [],
   "source": [
    "m = buildings_bremen.explore(color=\"gray\", name=\"Buildings\")\n",
    "m = neighborhoods_bremen.explore(m=m, height=500, width=1000, name=\"Neighborhoods\",\n",
    "                             column = \"Building_Density\", scheme = \"quantiles\", cmap = \"RdYlBu_r\", legend = True)\n",
    "\n",
    "\n",
    "folium.LayerControl().add_to(m)\n",
    "m"
   ]
  }
 ],
 "metadata": {
  "kernelspec": {
   "display_name": "ifohack_spatial_py310",
   "language": "python",
   "name": "ifohack_spatial_py310"
  },
  "language_info": {
   "codemirror_mode": {
    "name": "ipython",
    "version": 3
   },
   "file_extension": ".py",
   "mimetype": "text/x-python",
   "name": "python",
   "nbconvert_exporter": "python",
   "pygments_lexer": "ipython3",
   "version": "3.10.10"
  }
 },
 "nbformat": 4,
 "nbformat_minor": 5
}
