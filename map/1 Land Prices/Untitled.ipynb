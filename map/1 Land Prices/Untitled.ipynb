{
 "cells": [
  {
   "cell_type": "code",
   "execution_count": 1,
   "id": "eeb3c984",
   "metadata": {},
   "outputs": [
    {
     "name": "stdout",
     "output_type": "stream",
     "text": [
      "Requirement already satisfied: geopandas in c:\\users\\alber\\anaconda3\\lib\\site-packages (0.12.2)\n",
      "Requirement already satisfied: fiona>=1.8 in c:\\users\\alber\\anaconda3\\lib\\site-packages (from geopandas) (1.9.3)\n",
      "Requirement already satisfied: pyproj>=2.6.1.post1 in c:\\users\\alber\\anaconda3\\lib\\site-packages (from geopandas) (3.5.0)\n",
      "Requirement already satisfied: pandas>=1.0.0 in c:\\users\\alber\\anaconda3\\lib\\site-packages (from geopandas) (1.4.4)\n",
      "Requirement already satisfied: packaging in c:\\users\\alber\\anaconda3\\lib\\site-packages (from geopandas) (21.3)\n",
      "Requirement already satisfied: shapely>=1.7 in c:\\users\\alber\\anaconda3\\lib\\site-packages (from geopandas) (2.0.1)\n",
      "Requirement already satisfied: click~=8.0 in c:\\users\\alber\\anaconda3\\lib\\site-packages (from fiona>=1.8->geopandas) (8.0.4)\n",
      "Requirement already satisfied: importlib-metadata in c:\\users\\alber\\anaconda3\\lib\\site-packages (from fiona>=1.8->geopandas) (4.11.3)\n",
      "Requirement already satisfied: munch>=2.3.2 in c:\\users\\alber\\anaconda3\\lib\\site-packages (from fiona>=1.8->geopandas) (2.5.0)\n",
      "Requirement already satisfied: cligj>=0.5 in c:\\users\\alber\\anaconda3\\lib\\site-packages (from fiona>=1.8->geopandas) (0.7.2)\n",
      "Requirement already satisfied: attrs>=19.2.0 in c:\\users\\alber\\anaconda3\\lib\\site-packages (from fiona>=1.8->geopandas) (21.4.0)\n",
      "Requirement already satisfied: certifi in c:\\users\\alber\\anaconda3\\lib\\site-packages (from fiona>=1.8->geopandas) (2022.12.7)\n",
      "Requirement already satisfied: click-plugins>=1.0 in c:\\users\\alber\\anaconda3\\lib\\site-packages (from fiona>=1.8->geopandas) (1.1.1)\n",
      "Requirement already satisfied: pytz>=2020.1 in c:\\users\\alber\\anaconda3\\lib\\site-packages (from pandas>=1.0.0->geopandas) (2022.1)\n",
      "Requirement already satisfied: python-dateutil>=2.8.1 in c:\\users\\alber\\anaconda3\\lib\\site-packages (from pandas>=1.0.0->geopandas) (2.8.2)\n",
      "Requirement already satisfied: numpy>=1.18.5 in c:\\users\\alber\\anaconda3\\lib\\site-packages (from pandas>=1.0.0->geopandas) (1.21.5)\n",
      "Requirement already satisfied: pyparsing!=3.0.5,>=2.0.2 in c:\\users\\alber\\anaconda3\\lib\\site-packages (from packaging->geopandas) (3.0.9)\n",
      "Requirement already satisfied: colorama in c:\\users\\alber\\anaconda3\\lib\\site-packages (from click~=8.0->fiona>=1.8->geopandas) (0.4.5)\n",
      "Requirement already satisfied: six in c:\\users\\alber\\anaconda3\\lib\\site-packages (from munch>=2.3.2->fiona>=1.8->geopandas) (1.16.0)\n",
      "Requirement already satisfied: zipp>=0.5 in c:\\users\\alber\\anaconda3\\lib\\site-packages (from importlib-metadata->fiona>=1.8->geopandas) (3.8.0)\n",
      "Note: you may need to restart the kernel to use updated packages.\n"
     ]
    }
   ],
   "source": [
    "pip install geopandas"
   ]
  },
  {
   "cell_type": "code",
   "execution_count": 12,
   "id": "e8206996",
   "metadata": {},
   "outputs": [
    {
     "data": {
      "text/plain": [
       "0     MULTIPOLYGON (((4226384.447 3000227.322, 42263...\n",
       "1     MULTIPOLYGON (((4227082.463 3001711.312, 42272...\n",
       "2     MULTIPOLYGON (((4225284.051 3000486.630, 42252...\n",
       "3     MULTIPOLYGON (((4225219.883 3002076.156, 42252...\n",
       "4     MULTIPOLYGON (((4225993.384 3003603.082, 42260...\n",
       "5     MULTIPOLYGON (((4227858.464 3003565.575, 42278...\n",
       "6     MULTIPOLYGON (((4227867.212 3001590.060, 42277...\n",
       "7     MULTIPOLYGON (((4231428.842 3001758.583, 42314...\n",
       "8     MULTIPOLYGON (((4228434.896 3001994.720, 42284...\n",
       "9     MULTIPOLYGON (((4222367.116 2998542.440, 42223...\n",
       "10    MULTIPOLYGON (((4225187.773 3000559.672, 42252...\n",
       "11    MULTIPOLYGON (((4223927.377 3003639.158, 42239...\n",
       "12    MULTIPOLYGON (((4229292.753 2999703.690, 42290...\n",
       "13    MULTIPOLYGON (((4228372.722 2999334.966, 42284...\n",
       "14    MULTIPOLYGON (((4219985.848 2996337.431, 42199...\n",
       "15    MULTIPOLYGON (((4229990.364 3000151.595, 42300...\n",
       "16    MULTIPOLYGON (((4225144.928 2998301.578, 42250...\n",
       "17    MULTIPOLYGON (((4219507.915 2998419.452, 42197...\n",
       "18    MULTIPOLYGON (((4221417.252 3000184.149, 42216...\n",
       "19    MULTIPOLYGON (((4220722.431 3004161.259, 42208...\n",
       "20    MULTIPOLYGON (((4222172.654 3004054.892, 42221...\n",
       "21    MULTIPOLYGON (((4222883.180 3005476.786, 42229...\n",
       "22    MULTIPOLYGON (((4224066.390 3007055.899, 42241...\n",
       "23    MULTIPOLYGON (((4222008.541 3008085.344, 42221...\n",
       "24    MULTIPOLYGON (((4225144.912 3003859.326, 42251...\n",
       "25    MULTIPOLYGON (((4226439.756 3005829.184, 42264...\n",
       "26    MULTIPOLYGON (((4225038.705 3007744.944, 42251...\n",
       "27    MULTIPOLYGON (((4226307.500 3005538.738, 42263...\n",
       "28    MULTIPOLYGON (((4227743.852 3004289.300, 42276...\n",
       "29    MULTIPOLYGON (((4225489.798 3008035.252, 42254...\n",
       "30    MULTIPOLYGON (((4227222.639 3006804.918, 42272...\n",
       "31    MULTIPOLYGON (((4229867.144 3001987.393, 42298...\n",
       "32    MULTIPOLYGON (((4228395.926 3004373.128, 42284...\n",
       "33    MULTIPOLYGON (((4233775.259 3003620.524, 42337...\n",
       "34    MULTIPOLYGON (((4217373.810 3000724.279, 42173...\n",
       "35    MULTIPOLYGON (((4220406.756 3001088.601, 42204...\n",
       "36    MULTIPOLYGON (((4214664.594 2998237.739, 42146...\n",
       "37    MULTIPOLYGON (((4212270.641 3000888.181, 42123...\n",
       "38    MULTIPOLYGON (((4217427.730 3001889.400, 42174...\n",
       "39    MULTIPOLYGON (((4219895.790 3002937.100, 42199...\n",
       "40    MULTIPOLYGON (((4227489.980 3010649.563, 42274...\n",
       "41    MULTIPOLYGON (((4223248.915 3007983.317, 42231...\n",
       "42    MULTIPOLYGON (((4226487.898 3007883.348, 42264...\n",
       "43    MULTIPOLYGON (((4226913.182 3011984.769, 42268...\n",
       "44    MULTIPOLYGON (((4231483.183 3003374.686, 42314...\n",
       "45    MULTIPOLYGON (((4224888.790 3007702.560, 42249...\n",
       "Name: geometry, dtype: geometry"
      ]
     },
     "execution_count": 12,
     "metadata": {},
     "output_type": "execute_result"
    }
   ],
   "source": [
    "import geopandas as gpd\n",
    "frankfurt = gpd.read_file(\"Land_Prices_Neighborhood_Frankfurt_am_Main.gpkg\")\n",
    "frankfurt_geo = frankfurt[\"geometry\"]\n",
    "frankfurt_geo"
   ]
  }
 ],
 "metadata": {
  "kernelspec": {
   "display_name": "ifo_tasks",
   "language": "python",
   "name": "ifo_tasks"
  },
  "language_info": {
   "codemirror_mode": {
    "name": "ipython",
    "version": 3
   },
   "file_extension": ".py",
   "mimetype": "text/x-python",
   "name": "python",
   "nbconvert_exporter": "python",
   "pygments_lexer": "ipython3",
   "version": "3.9.13"
  }
 },
 "nbformat": 4,
 "nbformat_minor": 5
}
